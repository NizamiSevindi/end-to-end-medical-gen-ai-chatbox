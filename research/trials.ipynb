{
 "cells": [
  {
   "cell_type": "code",
   "execution_count": 24,
   "metadata": {},
   "outputs": [
    {
     "name": "stdout",
     "output_type": "stream",
     "text": [
      "ok\n"
     ]
    }
   ],
   "source": [
    "print(\"ok\")"
   ]
  },
  {
   "cell_type": "code",
   "execution_count": 25,
   "metadata": {},
   "outputs": [
    {
     "data": {
      "text/plain": [
       "'c:\\\\Users\\\\NizamiSevindi\\\\Documents\\\\Projects\\\\PYTHON\\\\End-To-End-Medical-Gen-Ai\\\\research'"
      ]
     },
     "execution_count": 25,
     "metadata": {},
     "output_type": "execute_result"
    }
   ],
   "source": [
    "%pwd"
   ]
  },
  {
   "cell_type": "code",
   "execution_count": 26,
   "metadata": {},
   "outputs": [],
   "source": [
    "import os\n",
    "os.chdir(\"../\")"
   ]
  },
  {
   "cell_type": "code",
   "execution_count": 4,
   "metadata": {},
   "outputs": [
    {
     "data": {
      "text/plain": [
       "'c:\\\\Users\\\\NizamiSevindi\\\\Documents\\\\Projects\\\\PYTHON\\\\End-To-End-Medical-Gen-Ai'"
      ]
     },
     "execution_count": 4,
     "metadata": {},
     "output_type": "execute_result"
    }
   ],
   "source": [
    "%pwd"
   ]
  },
  {
   "cell_type": "code",
   "execution_count": 27,
   "metadata": {},
   "outputs": [],
   "source": [
    "from langchain.document_loaders import PyPDFLoader, DirectoryLoader\n",
    "from langchain.text_splitter import RecursiveCharacterTextSplitter"
   ]
  },
  {
   "cell_type": "code",
   "execution_count": 28,
   "metadata": {},
   "outputs": [],
   "source": [
    "#Extract Data From the PDF File\n",
    "def load_pdf_file(data):\n",
    "    loader= DirectoryLoader(data,\n",
    "                            glob=\"*.pdf\",\n",
    "                            loader_cls=PyPDFLoader)\n",
    "\n",
    "    documents=loader.load()\n",
    "\n",
    "    return documents\n"
   ]
  },
  {
   "cell_type": "code",
   "execution_count": 29,
   "metadata": {},
   "outputs": [],
   "source": [
    "extracted_data=load_pdf_file(data='Data/')"
   ]
  },
  {
   "cell_type": "code",
   "execution_count": 30,
   "metadata": {},
   "outputs": [
    {
     "data": {
      "text/plain": [
       "[Document(metadata={'producer': 'pdfTeX-1.40.26', 'creator': 'TeX', 'creationdate': '2024-09-10T21:50:42+00:00', 'moddate': '2024-09-10T21:50:42+00:00', 'ptex.fullbanner': 'This is pdfTeX, Version 3.141592653-2.6-1.40.26 (TeX Live 2024) kpathsea version 6.4.0', 'trapped': '/False', 'source': 'Data\\\\A_Comprehensive_Review_of_Low_Rank_Adaptation_in_Large_Language_Models_for_Efficient_Parameter_Tuning-1.pdf', 'total_pages': 11, 'page': 0, 'page_label': '1'}, page_content='A Comprehensive Review of Low-Rank\\nAdaptation in Large Language Models for\\nEfficient Parameter Tuning\\nSeptember 10, 2024\\nAbstract\\nNatural Language Processing (NLP) often involves pre-training large\\nmodels on extensive datasets and then adapting them for specific tasks\\nthrough fine-tuning. However, as these models grow larger, like GPT-3\\nwith 175 billion parameters, fully fine-tuning them becomes computa-\\ntionally expensive. We propose a novel method called LoRA (Low-Rank\\nAdaptation) that significantly reduces the overhead by freezing the orig-\\ninal model weights and only training small rank decomposition matrices.\\nThis leads to up to 10,000 times fewer trainable parameters and reduces\\nGPU memory usage by three times. LoRA not only maintains but some-\\ntimes surpasses fine-tuning performance on models like RoBERTa, De-\\nBERTa, GPT-2, and GPT-3. Unlike other methods, LoRA introduces\\nno extra latency during inference, making it more efficient for practical\\napplications. All relevant code and model checkpoints are available at\\nhttps://github.com/microsoft/LoRA.\\n1 Introduction\\nMany natural language processing (NLP) applications rely on adapting large,\\npre-trained language models for various downstream tasks. Typically, this is\\ndone through fine-tuning, where all the parameters of the pre-trained model are\\nupdated. However, a significant drawback of fine-tuning is that the adapted\\nmodel has just as many parameters as the original one. As models grow in size,\\nwhat was once a manageable issue for models like GPT-2 or RoBERTa large\\nbecomes a serious deployment challenge with larger models like GPT-3, which\\nhas 175 billion trainable parameters.\\nTo mitigate these challenges, researchers have explored adapting only cer-\\ntain parts of the model or adding external modules specific to each task. This\\napproach reduces the need to store and manage large numbers of parameters\\nfor each task, greatly improving efficiency during deployment. However, cur-\\nrent methods often introduce drawbacks, such as inference delays by increasing\\n1'),\n",
       " Document(metadata={'producer': 'pdfTeX-1.40.26', 'creator': 'TeX', 'creationdate': '2024-09-10T21:50:42+00:00', 'moddate': '2024-09-10T21:50:42+00:00', 'ptex.fullbanner': 'This is pdfTeX, Version 3.141592653-2.6-1.40.26 (TeX Live 2024) kpathsea version 6.4.0', 'trapped': '/False', 'source': 'Data\\\\A_Comprehensive_Review_of_Low_Rank_Adaptation_in_Large_Language_Models_for_Efficient_Parameter_Tuning-1.pdf', 'total_pages': 11, 'page': 1, 'page_label': '2'}, page_content='model depth or reducing the usable sequence length. Furthermore, these meth-\\nods typically do not perform as well as full fine-tuning, leading to a trade-off\\nbetween efficiency and model performance.\\nInspired by prior works that demonstrate over-parametrized models often\\nreside in a low intrinsic dimensional space, we hypothesize that weight changes\\nduring model adaptation also have a low “intrinsic rank.” This insight leads to\\nour Low-Rank Adaptation (LoRA) approach. LoRA optimizes low-rank decom-\\nposition matrices for the dense layers’ weight changes during adaptation, while\\nkeeping the pre-trained weights frozen. As illustrated in Figure 1, even with\\nlarge models like GPT-3 (with up to 12,288 dimensions in full rank), a low-rank\\nmatrix (rank 1 or 2) is sufficient, making LoRA highly efficient in terms of both\\nstorage and computation.\\nLoRA has several notable advantages:\\n• The pre-trained model can be shared, and small LoRA modules can be\\ncreated for various tasks. By freezing the main model and only switching\\nthe matrices A and B (shown in Figure 1), storage and task-switching\\noverhead are significantly reduced.\\n• LoRA improves training efficiency and reduces hardware requirements,\\nlowering the entry barrier by up to threefold when using adaptive opti-\\nmizers. This is because LoRA only requires updating the smaller low-rank\\nmatrices, avoiding the need to calculate gradients for most parameters.\\n• The simple linear design allows merging of the trainable matrices with\\nthe frozen pre-trained weights during deployment, ensuring no additional\\ninference latency compared to fully fine-tuned models.\\n• LoRA is compatible with many existing methods and can be combined\\nwith approaches like prefix-tuning.\\nIn this work, we follow standard conventions for Transformer architecture\\nand refer to dimensions such asdmodel, and projection matrices likeWq, Wk, Wv,\\nand Wo for the self-attention module. W or W0 represents a pre-trained weight\\nmatrix, while ∆ W refers to its update during adaptation. The rank r denotes\\nthe rank of a LoRA module. Throughout, we use Adam for optimization and\\nmaintain the Transformer MLP feedforward dimension as dffn = 4 × dmodel.\\n1.1 Key Advantages of LoRA\\n• Efficient Task Switching : A pre-trained model can support multiple\\ntasks by swapping the small LoRA matrices, reducing storage needs.\\n• Reduced Hardware Requirements : LoRA lowers the GPU memory\\nneeded for training by freezing most parameters and only training the\\nlow-rank matrices.\\n• No Additional Latency: LoRA incurs no extra inference delay because\\nthe matrices can be merged with the pre-trained weights when deployed.\\n2'),\n",
       " Document(metadata={'producer': 'pdfTeX-1.40.26', 'creator': 'TeX', 'creationdate': '2024-09-10T21:50:42+00:00', 'moddate': '2024-09-10T21:50:42+00:00', 'ptex.fullbanner': 'This is pdfTeX, Version 3.141592653-2.6-1.40.26 (TeX Live 2024) kpathsea version 6.4.0', 'trapped': '/False', 'source': 'Data\\\\A_Comprehensive_Review_of_Low_Rank_Adaptation_in_Large_Language_Models_for_Efficient_Parameter_Tuning-1.pdf', 'total_pages': 11, 'page': 2, 'page_label': '3'}, page_content='• Combining with Other Methods : LoRA can be used with other ap-\\nproaches, like prefix-tuning, to further optimize model performance.\\n2 Problem Statement\\nAlthough our approach is independent of the specific training objective, we focus\\non language modeling as the central application. Below, we outline the key\\naspects of the language modeling problem, particularly the goal of maximizing\\nconditional probabilities based on task-specific prompts.\\nAssume we have an autoregressive language model PΦ(y|x) that is pre-\\ntrained and parameterized by Φ. For example, PΦ(y|x) could be a general\\nmulti-task model such as GPT, built on top of the Transformer architecture.\\nThe model can then be adapted to different downstream tasks such as text\\nsummarization, machine reading comprehension (MRC), and natural language\\nto SQL (NL2SQL). Each downstream task is represented as a training set of\\ncontext-output pairs:\\nZ = {(xi, yi)}i=1,...,N ,\\nwhere both xi and yi are sequences of tokens. For instance, in NL2SQL, xi\\nmight represent a natural language question and yi would be the corresponding\\nSQL query; in summarization, xi represents the article and yi would be its\\nsummary.\\nIn traditional fine-tuning, the model is initialized using the pre-trained weights\\nΦ0, which are then updated to Φ 0 + ∆Φ by optimizing the model’s parameters\\nto maximize the conditional probabilities for each token:\\nmax\\nΦ\\nX\\n(x,y)∈Z\\n|y|X\\nt=1\\nlog (PΦ(yt|x, y<t)) (1)\\nA significant limitation of full fine-tuning is that for every downstream task, a\\ndifferent set of parameters ∆Φ must be learned, and the size of ∆Φ is equal to the\\nsize of Φ0. For large models, such as GPT-3 with 175 billion parameters, storing\\nand deploying multiple instances of fine-tuned models becomes impractical or\\nextremely challenging.\\nTo address this issue, we propose a more efficient approach where the task-\\nspecific parameter updates ∆Φ = ∆Φ(Θ) are encoded using a much smaller set\\nof parameters Θ, where |Θ| ≪ |Φ0|. As a result, optimizing the model for each\\ntask reduces to optimizing Θ as follows:\\nmax\\nΘ\\nX\\n(x,y)∈Z\\n|y|X\\nt=1\\nlog\\n\\x00\\npΦ0+∆Φ(Θ)(yt|x, y<t)\\n\\x01\\n(2)\\nIn the following sections, we explore a low-rank approach for representing\\n∆Φ, making the adaptation process more efficient in both computational and\\nmemory terms. For large models like GPT-3 175B, this method allows the\\ntrainable parameters |Θ| to be reduced to as little as 0.01% of |Φ0|.\\n3'),\n",
       " Document(metadata={'producer': 'pdfTeX-1.40.26', 'creator': 'TeX', 'creationdate': '2024-09-10T21:50:42+00:00', 'moddate': '2024-09-10T21:50:42+00:00', 'ptex.fullbanner': 'This is pdfTeX, Version 3.141592653-2.6-1.40.26 (TeX Live 2024) kpathsea version 6.4.0', 'trapped': '/False', 'source': 'Data\\\\A_Comprehensive_Review_of_Low_Rank_Adaptation_in_Large_Language_Models_for_Efficient_Parameter_Tuning-1.pdf', 'total_pages': 11, 'page': 3, 'page_label': '4'}, page_content='3 Limitations on Current Solutions\\nThe challenge we aim to address is not new. Since the rise of transfer learning,\\na great deal of work has focused on making model adaptation more efficient in\\nterms of both parameters and computation. For an overview, see Section 6 for\\nsome well-known works. Focusing on language modeling, two prominent strate-\\ngies for efficient adaptation stand out: adding adapter layers, or optimizing the\\ninput layer activations. However, both approaches come with limitations, espe-\\ncially when applied in large-scale, latency-sensitive production environments.\\n3.1 Adapter Layers and Inference Latency\\nThere are many variations of adapters. We focus on the original adapter design\\nfrom [ ?], which introduces two adapter layers per Transformer block, and a\\nmore recent approach by [?], which only uses one adapter per block but with an\\nadditional LayerNorm [?]. Although overall latency can be reduced by pruning\\nlayers or leveraging multi-task settings [ ?], [ ?], there is no way to completely\\neliminate the additional computation introduced by adapter layers. This might\\nseem minor since adapters generally have few parameters (typically less than\\n1% of the original model) due to their small bottleneck dimension, which limits\\nthe number of floating-point operations (FLOPs). However, large-scale neural\\nnetworks rely heavily on parallel processing to maintain low latency, and adapter\\nlayers are processed sequentially. This becomes more evident in scenarios with\\nlow batch sizes, such as real-time inference, where models like GPT-2 [?] running\\non a single GPU experience noticeable increases in latency, even with small\\nbottleneck dimensions (Table 1).\\nThe issue is further compounded when models need to be sharded across\\nmultiple devices, since the increased model depth requires more synchronous\\nGPU operations like AllReduce and Broadcast, unless adapter parameters are\\nredundantly replicated.\\n3.2 Challenges with Directly Optimizing the Prompt\\nAnother approach, such as prefix tuning [ ?], faces a different challenge. We\\nhave observed that prefix tuning is often difficult to optimize and that its per-\\nformance does not consistently improve as more trainable parameters are added,\\nconfirming earlier findings. Moreover, allocating part of the sequence length for\\nadaptation inevitably reduces the available sequence length for processing task-\\nrelated data, which seems to hinder prompt tuning’s performance compared to\\nother methods. We will further explore this issue in Section 5.\\n4'),\n",
       " Document(metadata={'producer': 'pdfTeX-1.40.26', 'creator': 'TeX', 'creationdate': '2024-09-10T21:50:42+00:00', 'moddate': '2024-09-10T21:50:42+00:00', 'ptex.fullbanner': 'This is pdfTeX, Version 3.141592653-2.6-1.40.26 (TeX Live 2024) kpathsea version 6.4.0', 'trapped': '/False', 'source': 'Data\\\\A_Comprehensive_Review_of_Low_Rank_Adaptation_in_Large_Language_Models_for_Efficient_Parameter_Tuning-1.pdf', 'total_pages': 11, 'page': 4, 'page_label': '5'}, page_content='Batch Size Sequence Length |Θ| Latency (ms)\\nFine-Tune/LoRA\\n32 512 0.5M 1449.4 ± 0.8\\n16 256 11M 338.0 ± 0.6\\n1 128 11M 19.8 ± 2.7\\nAdapterL\\n32 512 0.5M 1482.0 ± 1.0 (+2.2%)\\n16 256 11M 354.8 ± 0.5 (+5.0%)\\n1 128 11M 23.9 ± 2.1 (+20.7%)\\nAdapterH\\n32 512 0.5M 1492.2 ± 1.0 (+3.0%)\\n16 256 11M 366.3 ± 0.5 (+8.4%)\\n1 128 11M 25.8 ± 2.2 (+30.3%)\\nTable 1: Inference latency of a forward pass in GPT-2 Medium measured over\\n100 trials using an NVIDIA Quadro RTX8000. ” |Θ|” refers to the number of\\ntrainable parameters in the adapter layers. Adapter L and AdapterH are two\\ntypes of adapter tuning. The impact on latency becomes significant, particularly\\nin online scenarios with shorter sequences and smaller batch sizes.\\n4 Our Method\\nIn this section, we explain the structure of LoRA and its practical benefits.\\nThe principles outlined here apply generally to dense layers in neural networks,\\nalthough we focus on specific weights in Transformer language models, as these\\nmodels serve as the central example in our experiments.\\n4.1 Low-Rank Parameterized Update Matrices\\nNeural networks contain numerous dense layers that perform matrix multipli-\\ncation, and the weight matrices in these layers typically have a full rank. When\\nadapting to a particular task, it shows that pre-trained language models pos-\\nsess a low ”intrinsic dimension” and can still perform effectively after a random\\nprojection to a smaller subspace. Drawing inspiration from this, we hypothesize\\nthat updates to the weights during adaptation also have a low ”intrinsic rank.”\\nFor a pre-trained weight matrix W0 ∈ Rd×k, we limit its update by express-\\ning it as a low-rank decomposition, W0 + ∆W = W0 + BA, where B ∈ Rd×r,\\nA ∈ Rr×k, and the rank r ≪ min(d, k). During training, W0 is fixed, and A\\nand B are the trainable parameters. Both W0 and ∆W = BA are multiplied\\nwith the input, and their respective outputs are summed element-wise. Thus,\\nfor h = W0x, our updated forward pass becomes:\\nh = W0x + ∆W x= W0x + BAx\\nWe illustrate this reparametrization in Figure 1. We initializeA with random\\nGaussian values and set B to zero, meaning ∆ W = BA is zero at the start\\n5'),\n",
       " Document(metadata={'producer': 'pdfTeX-1.40.26', 'creator': 'TeX', 'creationdate': '2024-09-10T21:50:42+00:00', 'moddate': '2024-09-10T21:50:42+00:00', 'ptex.fullbanner': 'This is pdfTeX, Version 3.141592653-2.6-1.40.26 (TeX Live 2024) kpathsea version 6.4.0', 'trapped': '/False', 'source': 'Data\\\\A_Comprehensive_Review_of_Low_Rank_Adaptation_in_Large_Language_Models_for_Efficient_Parameter_Tuning-1.pdf', 'total_pages': 11, 'page': 5, 'page_label': '6'}, page_content='of training. We then scale ∆ W xby α\\nr , where α is a constant dependent on\\nr. When using Adam for optimization, adjusting α has an effect similar to\\ntuning the learning rate. Therefore, we use the same α for our first experiments\\nand avoid tuning it. This scaling method also minimizes the need to adjust\\nhyperparameters when varying r.\\n4.1.1 A Generalization of Full Fine-Tuning\\nA more general fine-tuning technique involves training only a subset of pre-\\ntrained parameters. LoRA extends this approach by eliminating the need for\\nfull-rank gradient updates to weight matrices. Instead, LoRA uses low-rank\\nmatrices for adaptation. If LoRA is applied to all weight matrices, and all\\nbiases are trained, the expressiveness of full fine-tuning is recovered by setting\\nthe LoRA rank r equal to the rank of the pre-trained weight matrices. As the\\nnumber of trainable parameters increases, LoRA approaches the full fine-tuning\\nperformance, while adapter-based techniques converge to simpler models that\\ncannot process long input sequences.\\n4.1.2 No Additional Inference Latency\\nWhen deploying LoRA, we can explicitly compute W = W0 + BA and use it\\nduring inference. This means that when switching between tasks, we can quickly\\nsubtract BA and add a different low-rank matrix B′A′ without consuming ex-\\ntra memory. This ensures that no additional inference latency is introduced\\ncompared to fully fine-tuned models.\\n4.2 Applying LoRA to Transformer Models\\nIn principle, LoRA can be applied to any subset of weight matrices in a neural\\nnetwork to minimize the number of trainable parameters. In a Transformer\\narchitecture, the self-attention module contains four projection matrices Wq,\\nWk, Wv, and Wo, and the MLP module contains two more matrices. We treat\\nthe weight matrices in the self-attention module as a single dmodel × dmodel\\nmatrix, despite them being split into different attention heads. To simplify\\nthe process and improve parameter efficiency, we restrict our method to only\\nadapting the attention weights for downstream tasks, leaving the MLP module\\nfrozen. The effect of adapting various attention weight matrices in a Transformer\\nis further explored in Section 7.1. We leave the investigation of adapting MLP\\nlayers, LayerNorm layers, and biases to future work.\\n4.2.1 Practical Benefits and Limitations\\nOne of the major advantages of LoRA is its reduction in memory and storage\\ncosts. For large Transformer models using Adam, LoRA can cut VRAM usage\\nby up to two-thirds if r ≪ dmodel, since it eliminates the need to store optimizer\\nstates for frozen parameters. For example, with GPT-3 175B, VRAM usage\\nduring training drops from 1.2 TB to 350 GB. With r = 4, and only the query\\n6'),\n",
       " Document(metadata={'producer': 'pdfTeX-1.40.26', 'creator': 'TeX', 'creationdate': '2024-09-10T21:50:42+00:00', 'moddate': '2024-09-10T21:50:42+00:00', 'ptex.fullbanner': 'This is pdfTeX, Version 3.141592653-2.6-1.40.26 (TeX Live 2024) kpathsea version 6.4.0', 'trapped': '/False', 'source': 'Data\\\\A_Comprehensive_Review_of_Low_Rank_Adaptation_in_Large_Language_Models_for_Efficient_Parameter_Tuning-1.pdf', 'total_pages': 11, 'page': 6, 'page_label': '7'}, page_content='and value matrices being adapted, the checkpoint size decreases by approxi-\\nmately 10,000× (from 350 GB to 35 MB). This makes it possible to train using\\nsignificantly fewer GPUs and avoid I/O bottlenecks. LoRA also enables easier\\ntask-switching during deployment by simply swapping out the LoRA weights,\\nwhich requires far less memory than loading entirely new model parameters.\\nAdditionally, LoRA offers a 25% training speedup compared to full fine-tuning\\nbecause there is no need to compute gradients for most parameters.\\nHowever, LoRA does have some limitations. It is not straightforward to\\ncombine multiple tasks with different low-rank matrices A and B in a single\\nforward pass if BA is absorbed into W to remove additional inference latency.\\nWhile it is possible to dynamically select LoRA modules during inference, this\\nsolution is not suitable for scenarios where low-latency responses are crucial.\\n5 Empirical Experiments\\nWe assess LoRA’s performance in downstream tasks across several models in-\\ncluding RoBERTa, DeBERTa, and GPT-2, before scaling up to GPT-3 175B.\\nOur experiments cover various tasks, ranging from natural language understand-\\ning (NLU) to natural language generation (NLG). For RoBERTa and DeBERTa,\\nwe evaluate on the GLUE benchmark. All experiments were performed using\\nNVIDIA Tesla V100 GPUs.\\n5.1 Baselines\\nFor comparison with a wide range of baselines, we replicate experimental setups\\nfrom previous studies and, where possible, reuse reported results. This might\\nresult in some baselines being present in only a subset of experiments.\\nFine-Tuning (FT) is a common method for adapting models. During fine-\\ntuning, the model’s pre-trained weights and biases are updated using gradient\\ndescent. A variant of this is fine-tuning only select layers, while freezing the\\nrest. One such baseline from prior work on GPT-2 updates only the last two\\nlayers (denoted as FTTop2).\\nBitFit is another baseline in which only the bias parameters are updated,\\nwhile all other parameters remain frozen. This method has gained attention,\\nincluding in recent studies [ ?].\\nPrefix-embedding tuning (PreEmbed)involves adding special tokens to\\nthe input sequence, and training their embeddings. These tokens do not belong\\nto the model’s original vocabulary. Their placement—either prepended (prefix)\\nor appended (infix)—can significantly affect performance, as highlighted in [ ?].\\nPrefix-layer tuning (PreLayer) extends prefix tuning by learning train-\\nable activations at each Transformer layer. This results in a larger number of\\ntrainable parameters, as activations from prior layers are progressively replaced.\\nThe total number of trainable parameters is given by |Θ| = L×dmodel ×(lp +li),\\nwhere L is the number of Transformer layers.\\n7'),\n",
       " Document(metadata={'producer': 'pdfTeX-1.40.26', 'creator': 'TeX', 'creationdate': '2024-09-10T21:50:42+00:00', 'moddate': '2024-09-10T21:50:42+00:00', 'ptex.fullbanner': 'This is pdfTeX, Version 3.141592653-2.6-1.40.26 (TeX Live 2024) kpathsea version 6.4.0', 'trapped': '/False', 'source': 'Data\\\\A_Comprehensive_Review_of_Low_Rank_Adaptation_in_Large_Language_Models_for_Efficient_Parameter_Tuning-1.pdf', 'total_pages': 11, 'page': 7, 'page_label': '8'}, page_content='Adapter tuning [?] introduces additional fully connected adapter layers\\nbetween existing layers in the Transformer. Several variants exist, such as\\nAdapterH and AdapterL [ ?], which differ in the placement of adapters within\\nthe network. The number of trainable parameters in these methods is |Θ| =\\nLAdpt × (2 × dmodel × r + r + dmodel) + 2× LLN × dmodel.\\nLoRA, on the other hand, introduces trainable low-rank matrices to the ex-\\nisting weight matrices. As detailed in Section 4.2, LoRA is applied to the query\\nand value matrices in most experiments. The number of trainable parameters\\nis determined by the rank r and the shape of the original weight matrices:\\n|Θ| = 2 × LLoRA × dmodel × r, where LLoRA represents the number of weight\\nmatrices to which LoRA is applied.\\nTable 2: GPT-2 Medium and Large results on E2E NLG Challenge. Higher\\nscores are better for all metrics. Confidence intervals are provided for experi-\\nments we conducted. *Results from prior work.\\nModel & Method# Trainable ParametersBLEU NIST MET ROUGE-LCIDEr\\nGPT-2 M (FT)* 354.92M 68.2 8.62 46.2 71.0 2.47GPT-2 M (LoRA) 0.35M 70.4±0.1 8.85±0.2 46.8±0.2 71.8±0.1 2.53±0.2GPT-2 L (FT)* 774.03M 68.5 8.78 46.0 69.9 2.45GPT-2 L (LoRA) 0.77M 70.4±0.1 8.89±0.2 46.8±0.2 72.0±0.2 2.47±0.2\\n5.2 Scaling LoRA to GPT-3 175B\\nTo further test LoRA’s scalability, we apply it to GPT-3 175B. Given the large\\ncomputational cost of GPT-3, we only report standard deviations for each task\\nbased on multiple random seeds. See Appendix D.4 for hyperparameters used.\\nAs presented in Table ??, LoRA matches or outperforms full fine-tuning on\\nWikiSQL, MultiNLI, and SAMSum. Notably, we observe that certain methods\\ndo not consistently benefit from increasing the number of trainable parame-\\nters. As shown in Figure 1, LoRA remains efficient even at low ranks, avoiding\\nthe performance degradation seen with larger token embeddings in prefix-based\\nmethods.\\nFigure 1: GPT-3 175B validation accuracy vs. the number of trainable parame-\\nters for several adaptation methods on WikiSQL and MNLI. LoRA demonstrates\\nbetter scalability and performance.\\n8'),\n",
       " Document(metadata={'producer': 'pdfTeX-1.40.26', 'creator': 'TeX', 'creationdate': '2024-09-10T21:50:42+00:00', 'moddate': '2024-09-10T21:50:42+00:00', 'ptex.fullbanner': 'This is pdfTeX, Version 3.141592653-2.6-1.40.26 (TeX Live 2024) kpathsea version 6.4.0', 'trapped': '/False', 'source': 'Data\\\\A_Comprehensive_Review_of_Low_Rank_Adaptation_in_Large_Language_Models_for_Efficient_Parameter_Tuning-1.pdf', 'total_pages': 11, 'page': 8, 'page_label': '9'}, page_content='6 Related Works\\n6.1 Transformer Language Models\\nThe Transformer architecture, as introduced by Vaswani et al. (2017), has\\nproven to be a highly effective sequence-to-sequence model due to its heavy use\\nof self-attention mechanisms. Radford et al. (2018) applied it to autoregressive\\nlanguage modeling, significantly boosting its utility in the field. Since then,\\nTransformer-based models have become a staple in natural language processing\\n(NLP), achieving state-of-the-art results in a wide variety of tasks. Notably,\\nBERT (Devlin et al., 2018) and GPT-2 (Radford et al., 2019) have paved the\\nway for large-scale pre-trained language models that, when fine-tuned, deliver\\nexcellent performance on specific tasks. The next breakthrough came with GPT-\\n3 (Brown et al., 2020), which is currently the largest single Transformer language\\nmodel with 175 billion parameters.\\n6.2 Prompt Engineering and Fine-Tuning\\nDespite GPT-3’s ability to adapt its behavior with minimal data (few-shot learn-\\ning), its performance is highly sensitive to how the input prompt is structured\\n(Brown et al., 2020). This has led to the rise of ”prompt engineering,” a process\\nthat involves crafting and fine-tuning the input prompts to maximize model per-\\nformance on specific tasks. Fine-tuning, on the other hand, refers to retraining\\na model pre-trained on general domains to adapt it to a particular task (Devlin\\net al., 2018; Radford et al., 2018). Some approaches only update a subset of the\\nmodel’s parameters (Collobert and Weston, 2008), but it is common practice to\\nfine-tune all parameters to achieve the best performance. However, performing\\nfull fine-tuning on a model as large as GPT-3, with its 175 billion parameters,\\nposes significant challenges due to the large memory requirements and the com-\\nputational resources needed, making it as resource-intensive as pre-training.\\n6.3 Parameter-Efficient Adaptation\\nMany techniques have been developed to address the inefficiency of full fine-\\ntuning by adapting only certain layers or introducing adapter modules. Houlsby\\net al. (2019), Rebuffi et al. (2017), and Lin et al. (2020) proposed inserting\\nadapter layers between existing layers in the network. These adapters allow for\\nparameter-efficient adaptation by learning only a small number of task-specific\\nparameters. Our method imposes a low-rank constraint on the weight updates,\\nensuring that learned weights can be merged with the main model weights dur-\\ning inference, thus introducing no additional latency, unlike the adapter layers.\\nA related approach, COMPACTER (Mahabadi et al., 2021), uses Kronecker\\nproducts to parametrize the adapters, further improving parameter efficiency.\\nAdditionally, prompt optimization techniques, such as those proposed by Li and\\nLiang (2021), Lester et al. (2021), and Hambardzumyan et al. (2020), aim to\\noptimize the input tokens directly. However, these approaches typically reduce\\n9'),\n",
       " Document(metadata={'producer': 'pdfTeX-1.40.26', 'creator': 'TeX', 'creationdate': '2024-09-10T21:50:42+00:00', 'moddate': '2024-09-10T21:50:42+00:00', 'ptex.fullbanner': 'This is pdfTeX, Version 3.141592653-2.6-1.40.26 (TeX Live 2024) kpathsea version 6.4.0', 'trapped': '/False', 'source': 'Data\\\\A_Comprehensive_Review_of_Low_Rank_Adaptation_in_Large_Language_Models_for_Efficient_Parameter_Tuning-1.pdf', 'total_pages': 11, 'page': 9, 'page_label': '10'}, page_content='the available sequence length for task processing. Our work can be combined\\nwith such methods for further gains in efficiency.\\n6.4 Low-Rank Structures in Deep Learning\\nLow-rank structures are prevalent in many machine learning problems, and sev-\\neral studies have explored imposing these constraints on deep models. Li et\\nal. (2016), Cai et al. (2010), and Grasedyck et al. (2013) showed that many\\nlearning tasks have an intrinsic low-rank structure. For deep neural networks,\\nparticularly over-parameterized models, it has been shown that they often ex-\\nhibit low-rank properties after training (Oymak et al., 2019). Prior works, such\\nas those by Sainath et al. (2013), Zhang et al. (2014), and Denil et al. (2014),\\nhave explicitly imposed low-rank constraints during training to enhance model\\nefficiency. However, our approach differs in that we apply low-rank updates to\\nfrozen pre-trained models, making it highly effective for task-specific adapta-\\ntion. Neural networks with low-rank structures have been shown to outperform\\nclassical methods such as finite-width neural tangent kernels (Allen-Zhu et al.,\\n2019; Li and Liang, 2018), and low-rank adaptations are particularly useful in\\nadversarial training scenarios (Allen-Zhu and Li, 2020). This makes our pro-\\nposed low-rank adaptation well-grounded in both theory and practice.\\n7 Analyzing Low-Rank Adaptations\\nIn light of the demonstrated benefits of LoRA, we aim to further explore the\\nattributes of low-rank adaptation as applied to various downstream tasks. The\\nlow-rank structure does not only reduce the hardware requirements for conduct-\\ning parallel experiments, but it also provides better insight into how adapted\\nweights align with pre-trained weights. Our focus lies on GPT-3 175B, where\\nwe managed to significantly reduce the number of trainable parameters (up to\\n10,000×) without sacrificing task performance.\\nIn this section, we address some key questions:\\n• 1) With a constrained parameter budget, which weight matrices should\\nbe adapted to achieve the best downstream task performance?\\n• 2) Is the adapted matrix ∆W truly rank-deficient, and if so, what rank is\\noptimal for practical use?\\n• 3) How is ∆W related to the pre-trained weights W? Does ∆ W exhibit\\nhigh correlation with W, and what is the comparative size of ∆ W to W?\\nThe answers to these questions provide valuable insights for optimizing pre-\\ntrained models for downstream tasks.\\n7.1 Selecting Optimal Weight Matrices for LoRA\\nTo optimize performance under a limited parameter budget, we explore adapting\\ndifferent weight matrices within the self-attention module of the Transformer.\\n10'),\n",
       " Document(metadata={'producer': 'pdfTeX-1.40.26', 'creator': 'TeX', 'creationdate': '2024-09-10T21:50:42+00:00', 'moddate': '2024-09-10T21:50:42+00:00', 'ptex.fullbanner': 'This is pdfTeX, Version 3.141592653-2.6-1.40.26 (TeX Live 2024) kpathsea version 6.4.0', 'trapped': '/False', 'source': 'Data\\\\A_Comprehensive_Review_of_Low_Rank_Adaptation_in_Large_Language_Models_for_Efficient_Parameter_Tuning-1.pdf', 'total_pages': 11, 'page': 10, 'page_label': '11'}, page_content='We allocate 18M parameters (approximately 35MB stored in FP16) for GPT-3\\n175B, using a rank r = 8 for one attention weight type or r = 4 for two types.\\nThe results are displayed in Table 3.\\nTable 3: Validation accuracy on WikiSQL and MultiNLI with LoRA applied to\\ndifferent attention weights in GPT-3, with a fixed number of trainable parame-\\nters.\\n# of Trainable Parameters = 18M Wq Wk Wv Wo Wq, Wv\\nRank r = 8 70.4 70.0 73.0 73.2 73.7\\nMultiNLI (±0.1%) 91.0 90.8 91.0 91.3 91.7\\n7.2 Determining the Ideal Rank for LoRA\\nTo analyze the impact of the rankr on task performance, we applied LoRA with\\nvarying ranks across different combinations of attention matrices. The results\\ncan be found in Table 4.\\nTable 4: Validation accuracy on WikiSQL and MultiNLI with different ranks r.\\nWeight Type r = 1 r = 2 r = 4 r = 8 r = 64\\nWikiSQL (±0.5%) Wq 68.8 69.6 70.5 70.4 70.0\\nWikiSQL (Wq, Wv) 73.4 73.3 73.7 73.8 73.5\\nMultiNLI (±0.1%) Wq 90.7 90.9 91.1 90.7 90.7\\nMultiNLI (Wq, Wv) 91.3 91.4 91.3 91.6 91.4\\nThe results show that even at a small rank r = 1, LoRA performs well when\\nboth Wq and Wv are adapted. In contrast, adapting only Wq requires a higher\\nrank for optimal performance.\\n8 Conclusion\\nLoRA offers a highly efficient solution to the problem of adapting large language\\nmodels for downstream tasks. By freezing the majority of the model’s param-\\neters and training only small, low-rank matrices, LoRA achieves comparable\\nperformance to full fine-tuning while drastically reducing computational costs.\\nIts ability to scale to massive models like GPT-3 without sacrificing performance\\nhighlights its potential for widespread use.\\nFuture work could explore combining LoRA with other parameter-efficient\\nmethods or investigating more principled ways to select which weight matrices\\nto adapt. Additionally, further studies on the rank deficiency of pre-trained\\nweights could inspire new developments in efficient model adaptation.\\n11')]"
      ]
     },
     "execution_count": 30,
     "metadata": {},
     "output_type": "execute_result"
    }
   ],
   "source": [
    "extracted_data"
   ]
  },
  {
   "cell_type": "code",
   "execution_count": 31,
   "metadata": {},
   "outputs": [],
   "source": [
    "#Split the Data into Text Chunks\n",
    "def text_split(extracted_data):\n",
    "    text_splitter=RecursiveCharacterTextSplitter(chunk_size=500, chunk_overlap=20)\n",
    "    text_chunks=text_splitter.split_documents(extracted_data)\n",
    "    return text_chunks"
   ]
  },
  {
   "cell_type": "code",
   "execution_count": 32,
   "metadata": {},
   "outputs": [
    {
     "name": "stdout",
     "output_type": "stream",
     "text": [
      "Length of Text Chunks 63\n"
     ]
    }
   ],
   "source": [
    "text_chunks=text_split(extracted_data)\n",
    "print(\"Length of Text Chunks\", len(text_chunks))"
   ]
  },
  {
   "cell_type": "code",
   "execution_count": 33,
   "metadata": {},
   "outputs": [],
   "source": [
    "#text_chunks"
   ]
  },
  {
   "cell_type": "code",
   "execution_count": 34,
   "metadata": {},
   "outputs": [],
   "source": [
    "from langchain.embeddings import HuggingFaceEmbeddings"
   ]
  },
  {
   "cell_type": "code",
   "execution_count": 35,
   "metadata": {},
   "outputs": [],
   "source": [
    "#Download the Embeddings from Hugging Face\n",
    "def download_hugging_face_embeddings():\n",
    "    embeddings=HuggingFaceEmbeddings(model_name='sentence-transformers/all-MiniLM-L6-v2')\n",
    "    return embeddings"
   ]
  },
  {
   "cell_type": "code",
   "execution_count": 36,
   "metadata": {},
   "outputs": [
    {
     "name": "stderr",
     "output_type": "stream",
     "text": [
      "C:\\Users\\NizamiSevindi\\AppData\\Local\\Temp\\ipykernel_37740\\2661704553.py:3: LangChainDeprecationWarning: The class `HuggingFaceEmbeddings` was deprecated in LangChain 0.2.2 and will be removed in 1.0. An updated version of the class exists in the :class:`~langchain-huggingface package and should be used instead. To use it run `pip install -U :class:`~langchain-huggingface` and import as `from :class:`~langchain_huggingface import HuggingFaceEmbeddings``.\n",
      "  embeddings=HuggingFaceEmbeddings(model_name='sentence-transformers/all-MiniLM-L6-v2')\n"
     ]
    }
   ],
   "source": [
    "embeddings = download_hugging_face_embeddings()"
   ]
  },
  {
   "cell_type": "code",
   "execution_count": 37,
   "metadata": {},
   "outputs": [
    {
     "name": "stdout",
     "output_type": "stream",
     "text": [
      "Length 384\n"
     ]
    }
   ],
   "source": [
    "query_result = embeddings.embed_query(\"Hello world\")\n",
    "print(\"Length\", len(query_result))"
   ]
  },
  {
   "cell_type": "code",
   "execution_count": 33,
   "metadata": {},
   "outputs": [],
   "source": [
    "# query_result"
   ]
  },
  {
   "cell_type": "code",
   "execution_count": 38,
   "metadata": {},
   "outputs": [
    {
     "data": {
      "text/plain": [
       "True"
      ]
     },
     "execution_count": 38,
     "metadata": {},
     "output_type": "execute_result"
    }
   ],
   "source": [
    "from dotenv import load_dotenv\n",
    "load_dotenv()"
   ]
  },
  {
   "cell_type": "code",
   "execution_count": 39,
   "metadata": {},
   "outputs": [],
   "source": [
    "PINECONE_API_KEY=os.environ.get('PINECONE_API_KEY')\n",
    "OPENAI_API_KEY=os.environ.get('OPENAI_API_KEY')"
   ]
  },
  {
   "cell_type": "code",
   "execution_count": 40,
   "metadata": {},
   "outputs": [
    {
     "ename": "PineconeApiException",
     "evalue": "(409)\nReason: Conflict\nHTTP response headers: HTTPHeaderDict({'content-type': 'text/plain; charset=utf-8', 'access-control-allow-origin': '*', 'vary': 'origin,access-control-request-method,access-control-request-headers', 'access-control-expose-headers': '*', 'x-pinecone-api-version': '2025-01', 'X-Cloud-Trace-Context': 'e18d634482fafc5b740943cd54fcf07f', 'Date': 'Thu, 13 Mar 2025 15:02:39 GMT', 'Server': 'Google Frontend', 'Content-Length': '85', 'Via': '1.1 google', 'Alt-Svc': 'h3=\":443\"; ma=2592000,h3-29=\":443\"; ma=2592000'})\nHTTP response body: {\"error\":{\"code\":\"ALREADY_EXISTS\",\"message\":\"Resource  already exists\"},\"status\":409}\n",
     "output_type": "error",
     "traceback": [
      "\u001b[31m---------------------------------------------------------------------------\u001b[39m",
      "\u001b[31mPineconeApiException\u001b[39m                      Traceback (most recent call last)",
      "\u001b[36mCell\u001b[39m\u001b[36m \u001b[39m\u001b[32mIn[40]\u001b[39m\u001b[32m, line 7\u001b[39m\n\u001b[32m      3\u001b[39m pc = Pinecone(api_key=os.environ.get(\u001b[33m'\u001b[39m\u001b[33mPINECONE_API_KEY\u001b[39m\u001b[33m'\u001b[39m))\n\u001b[32m      5\u001b[39m index_name = \u001b[33m\"\u001b[39m\u001b[33mmedicalbot\u001b[39m\u001b[33m\"\u001b[39m\n\u001b[32m----> \u001b[39m\u001b[32m7\u001b[39m \u001b[43mpc\u001b[49m\u001b[43m.\u001b[49m\u001b[43mcreate_index\u001b[49m\u001b[43m(\u001b[49m\n\u001b[32m      8\u001b[39m \u001b[43m    \u001b[49m\u001b[43mname\u001b[49m\u001b[43m=\u001b[49m\u001b[43mindex_name\u001b[49m\u001b[43m,\u001b[49m\n\u001b[32m      9\u001b[39m \u001b[43m    \u001b[49m\u001b[43mdimension\u001b[49m\u001b[43m=\u001b[49m\u001b[32;43m384\u001b[39;49m\u001b[43m,\u001b[49m\u001b[43m \u001b[49m\n\u001b[32m     10\u001b[39m \u001b[43m    \u001b[49m\u001b[43mmetric\u001b[49m\u001b[43m=\u001b[49m\u001b[33;43m\"\u001b[39;49m\u001b[33;43mcosine\u001b[39;49m\u001b[33;43m\"\u001b[39;49m\u001b[43m,\u001b[49m\u001b[43m \u001b[49m\n\u001b[32m     11\u001b[39m \u001b[43m    \u001b[49m\u001b[43mspec\u001b[49m\u001b[43m=\u001b[49m\u001b[43mServerlessSpec\u001b[49m\u001b[43m(\u001b[49m\n\u001b[32m     12\u001b[39m \u001b[43m        \u001b[49m\u001b[43mcloud\u001b[49m\u001b[43m=\u001b[49m\u001b[33;43m\"\u001b[39;49m\u001b[33;43maws\u001b[39;49m\u001b[33;43m\"\u001b[39;49m\u001b[43m,\u001b[49m\u001b[43m \u001b[49m\n\u001b[32m     13\u001b[39m \u001b[43m        \u001b[49m\u001b[43mregion\u001b[49m\u001b[43m=\u001b[49m\u001b[33;43m\"\u001b[39;49m\u001b[33;43mus-east-1\u001b[39;49m\u001b[33;43m\"\u001b[39;49m\n\u001b[32m     14\u001b[39m \u001b[43m    \u001b[49m\u001b[43m)\u001b[49m\u001b[43m \u001b[49m\n\u001b[32m     15\u001b[39m \u001b[43m)\u001b[49m \n",
      "\u001b[36mFile \u001b[39m\u001b[32mc:\\Users\\NizamiSevindi\\Documents\\Projects\\PYTHON\\End-To-End-Medical-Gen-Ai\\.medibot\\Lib\\site-packages\\pinecone\\control\\pinecone.py:143\u001b[39m, in \u001b[36mPinecone.create_index\u001b[39m\u001b[34m(self, name, spec, dimension, metric, timeout, deletion_protection, vector_type, tags)\u001b[39m\n\u001b[32m    123\u001b[39m \u001b[38;5;28;01mdef\u001b[39;00m\u001b[38;5;250m \u001b[39m\u001b[34mcreate_index\u001b[39m(\n\u001b[32m    124\u001b[39m     \u001b[38;5;28mself\u001b[39m,\n\u001b[32m    125\u001b[39m     name: \u001b[38;5;28mstr\u001b[39m,\n\u001b[32m   (...)\u001b[39m\u001b[32m    132\u001b[39m     tags: Optional[Dict[\u001b[38;5;28mstr\u001b[39m, \u001b[38;5;28mstr\u001b[39m]] = \u001b[38;5;28;01mNone\u001b[39;00m,\n\u001b[32m    133\u001b[39m ) -> IndexModel:\n\u001b[32m    134\u001b[39m     req = PineconeDBControlRequestFactory.create_index_request(\n\u001b[32m    135\u001b[39m         name=name,\n\u001b[32m    136\u001b[39m         spec=spec,\n\u001b[32m   (...)\u001b[39m\u001b[32m    141\u001b[39m         tags=tags,\n\u001b[32m    142\u001b[39m     )\n\u001b[32m--> \u001b[39m\u001b[32m143\u001b[39m     resp = \u001b[38;5;28;43mself\u001b[39;49m\u001b[43m.\u001b[49m\u001b[43mindex_api\u001b[49m\u001b[43m.\u001b[49m\u001b[43mcreate_index\u001b[49m\u001b[43m(\u001b[49m\u001b[43mcreate_index_request\u001b[49m\u001b[43m=\u001b[49m\u001b[43mreq\u001b[49m\u001b[43m)\u001b[49m\n\u001b[32m    145\u001b[39m     \u001b[38;5;28;01mif\u001b[39;00m timeout == -\u001b[32m1\u001b[39m:\n\u001b[32m    146\u001b[39m         \u001b[38;5;28;01mreturn\u001b[39;00m IndexModel(resp)\n",
      "\u001b[36mFile \u001b[39m\u001b[32mc:\\Users\\NizamiSevindi\\Documents\\Projects\\PYTHON\\End-To-End-Medical-Gen-Ai\\.medibot\\Lib\\site-packages\\pinecone\\openapi_support\\endpoint.py:102\u001b[39m, in \u001b[36mEndpoint.__call__\u001b[39m\u001b[34m(self, *args, **kwargs)\u001b[39m\n\u001b[32m     91\u001b[39m \u001b[38;5;28;01mdef\u001b[39;00m\u001b[38;5;250m \u001b[39m\u001b[34m__call__\u001b[39m(\u001b[38;5;28mself\u001b[39m, *args, **kwargs):\n\u001b[32m     92\u001b[39m \u001b[38;5;250m    \u001b[39m\u001b[33;03m\"\"\"This method is invoked when endpoints are called\u001b[39;00m\n\u001b[32m     93\u001b[39m \u001b[33;03m    Example:\u001b[39;00m\n\u001b[32m     94\u001b[39m \n\u001b[32m   (...)\u001b[39m\u001b[32m    100\u001b[39m \n\u001b[32m    101\u001b[39m \u001b[33;03m    \"\"\"\u001b[39;00m\n\u001b[32m--> \u001b[39m\u001b[32m102\u001b[39m     \u001b[38;5;28;01mreturn\u001b[39;00m \u001b[38;5;28;43mself\u001b[39;49m\u001b[43m.\u001b[49m\u001b[43mcallable\u001b[49m\u001b[43m(\u001b[49m\u001b[38;5;28;43mself\u001b[39;49m\u001b[43m,\u001b[49m\u001b[43m \u001b[49m\u001b[43m*\u001b[49m\u001b[43margs\u001b[49m\u001b[43m,\u001b[49m\u001b[43m \u001b[49m\u001b[43m*\u001b[49m\u001b[43m*\u001b[49m\u001b[43mkwargs\u001b[49m\u001b[43m)\u001b[49m\n",
      "\u001b[36mFile \u001b[39m\u001b[32mc:\\Users\\NizamiSevindi\\Documents\\Projects\\PYTHON\\End-To-End-Medical-Gen-Ai\\.medibot\\Lib\\site-packages\\pinecone\\core\\openapi\\db_control\\api\\manage_indexes_api.py:235\u001b[39m, in \u001b[36mManageIndexesApi.__init__.<locals>.__create_index\u001b[39m\u001b[34m(self, create_index_request, **kwargs)\u001b[39m\n\u001b[32m    233\u001b[39m kwargs = \u001b[38;5;28mself\u001b[39m._process_openapi_kwargs(kwargs)\n\u001b[32m    234\u001b[39m kwargs[\u001b[33m\"\u001b[39m\u001b[33mcreate_index_request\u001b[39m\u001b[33m\"\u001b[39m] = create_index_request\n\u001b[32m--> \u001b[39m\u001b[32m235\u001b[39m \u001b[38;5;28;01mreturn\u001b[39;00m \u001b[38;5;28;43mself\u001b[39;49m\u001b[43m.\u001b[49m\u001b[43mcall_with_http_info\u001b[49m\u001b[43m(\u001b[49m\u001b[43m*\u001b[49m\u001b[43m*\u001b[49m\u001b[43mkwargs\u001b[49m\u001b[43m)\u001b[49m\n",
      "\u001b[36mFile \u001b[39m\u001b[32mc:\\Users\\NizamiSevindi\\Documents\\Projects\\PYTHON\\End-To-End-Medical-Gen-Ai\\.medibot\\Lib\\site-packages\\pinecone\\openapi_support\\endpoint.py:134\u001b[39m, in \u001b[36mEndpoint.call_with_http_info\u001b[39m\u001b[34m(self, **kwargs)\u001b[39m\n\u001b[32m    124\u001b[39m params = EndpointUtils.gather_params(\n\u001b[32m    125\u001b[39m     attribute_map=\u001b[38;5;28mself\u001b[39m.attribute_map,\n\u001b[32m    126\u001b[39m     location_map=\u001b[38;5;28mself\u001b[39m.location_map,\n\u001b[32m   (...)\u001b[39m\u001b[32m    129\u001b[39m     kwargs=kwargs,\n\u001b[32m    130\u001b[39m )\n\u001b[32m    132\u001b[39m HeaderUtil.prepare_headers(headers_map=\u001b[38;5;28mself\u001b[39m.headers_map, params=params)\n\u001b[32m--> \u001b[39m\u001b[32m134\u001b[39m \u001b[38;5;28;01mreturn\u001b[39;00m \u001b[38;5;28;43mself\u001b[39;49m\u001b[43m.\u001b[49m\u001b[43mapi_client\u001b[49m\u001b[43m.\u001b[49m\u001b[43mcall_api\u001b[49m\u001b[43m(\u001b[49m\n\u001b[32m    135\u001b[39m \u001b[43m    \u001b[49m\u001b[38;5;28;43mself\u001b[39;49m\u001b[43m.\u001b[49m\u001b[43msettings\u001b[49m\u001b[43m[\u001b[49m\u001b[33;43m\"\u001b[39;49m\u001b[33;43mendpoint_path\u001b[39;49m\u001b[33;43m\"\u001b[39;49m\u001b[43m]\u001b[49m\u001b[43m,\u001b[49m\n\u001b[32m    136\u001b[39m \u001b[43m    \u001b[49m\u001b[38;5;28;43mself\u001b[39;49m\u001b[43m.\u001b[49m\u001b[43msettings\u001b[49m\u001b[43m[\u001b[49m\u001b[33;43m\"\u001b[39;49m\u001b[33;43mhttp_method\u001b[39;49m\u001b[33;43m\"\u001b[39;49m\u001b[43m]\u001b[49m\u001b[43m,\u001b[49m\n\u001b[32m    137\u001b[39m \u001b[43m    \u001b[49m\u001b[43mpath_params\u001b[49m\u001b[43m=\u001b[49m\u001b[43mparams\u001b[49m\u001b[43m[\u001b[49m\u001b[33;43m\"\u001b[39;49m\u001b[33;43mpath\u001b[39;49m\u001b[33;43m\"\u001b[39;49m\u001b[43m]\u001b[49m\u001b[43m,\u001b[49m\n\u001b[32m    138\u001b[39m \u001b[43m    \u001b[49m\u001b[43mquery_params\u001b[49m\u001b[43m=\u001b[49m\u001b[43mparams\u001b[49m\u001b[43m[\u001b[49m\u001b[33;43m\"\u001b[39;49m\u001b[33;43mquery\u001b[39;49m\u001b[33;43m\"\u001b[39;49m\u001b[43m]\u001b[49m\u001b[43m,\u001b[49m\n\u001b[32m    139\u001b[39m \u001b[43m    \u001b[49m\u001b[43mheader_params\u001b[49m\u001b[43m=\u001b[49m\u001b[43mparams\u001b[49m\u001b[43m[\u001b[49m\u001b[33;43m\"\u001b[39;49m\u001b[33;43mheader\u001b[39;49m\u001b[33;43m\"\u001b[39;49m\u001b[43m]\u001b[49m\u001b[43m,\u001b[49m\n\u001b[32m    140\u001b[39m \u001b[43m    \u001b[49m\u001b[43mbody\u001b[49m\u001b[43m=\u001b[49m\u001b[43mparams\u001b[49m\u001b[43m[\u001b[49m\u001b[33;43m\"\u001b[39;49m\u001b[33;43mbody\u001b[39;49m\u001b[33;43m\"\u001b[39;49m\u001b[43m]\u001b[49m\u001b[43m,\u001b[49m\n\u001b[32m    141\u001b[39m \u001b[43m    \u001b[49m\u001b[43mpost_params\u001b[49m\u001b[43m=\u001b[49m\u001b[43mparams\u001b[49m\u001b[43m[\u001b[49m\u001b[33;43m\"\u001b[39;49m\u001b[33;43mform\u001b[39;49m\u001b[33;43m\"\u001b[39;49m\u001b[43m]\u001b[49m\u001b[43m,\u001b[49m\n\u001b[32m    142\u001b[39m \u001b[43m    \u001b[49m\u001b[43mfiles\u001b[49m\u001b[43m=\u001b[49m\u001b[43mparams\u001b[49m\u001b[43m[\u001b[49m\u001b[33;43m\"\u001b[39;49m\u001b[33;43mfile\u001b[39;49m\u001b[33;43m\"\u001b[39;49m\u001b[43m]\u001b[49m\u001b[43m,\u001b[49m\n\u001b[32m    143\u001b[39m \u001b[43m    \u001b[49m\u001b[43mresponse_type\u001b[49m\u001b[43m=\u001b[49m\u001b[38;5;28;43mself\u001b[39;49m\u001b[43m.\u001b[49m\u001b[43msettings\u001b[49m\u001b[43m[\u001b[49m\u001b[33;43m\"\u001b[39;49m\u001b[33;43mresponse_type\u001b[39;49m\u001b[33;43m\"\u001b[39;49m\u001b[43m]\u001b[49m\u001b[43m,\u001b[49m\n\u001b[32m    144\u001b[39m \u001b[43m    \u001b[49m\u001b[43mauth_settings\u001b[49m\u001b[43m=\u001b[49m\u001b[38;5;28;43mself\u001b[39;49m\u001b[43m.\u001b[49m\u001b[43msettings\u001b[49m\u001b[43m[\u001b[49m\u001b[33;43m\"\u001b[39;49m\u001b[33;43mauth\u001b[39;49m\u001b[33;43m\"\u001b[39;49m\u001b[43m]\u001b[49m\u001b[43m,\u001b[49m\n\u001b[32m    145\u001b[39m \u001b[43m    \u001b[49m\u001b[43masync_req\u001b[49m\u001b[43m=\u001b[49m\u001b[43mkwargs\u001b[49m\u001b[43m[\u001b[49m\u001b[33;43m\"\u001b[39;49m\u001b[33;43masync_req\u001b[39;49m\u001b[33;43m\"\u001b[39;49m\u001b[43m]\u001b[49m\u001b[43m,\u001b[49m\n\u001b[32m    146\u001b[39m \u001b[43m    \u001b[49m\u001b[43masync_threadpool_executor\u001b[49m\u001b[43m=\u001b[49m\u001b[43mkwargs\u001b[49m\u001b[43m.\u001b[49m\u001b[43mget\u001b[49m\u001b[43m(\u001b[49m\u001b[33;43m\"\u001b[39;49m\u001b[33;43masync_threadpool_executor\u001b[39;49m\u001b[33;43m\"\u001b[39;49m\u001b[43m,\u001b[49m\u001b[43m \u001b[49m\u001b[38;5;28;43;01mNone\u001b[39;49;00m\u001b[43m)\u001b[49m\u001b[43m,\u001b[49m\n\u001b[32m    147\u001b[39m \u001b[43m    \u001b[49m\u001b[43m_check_type\u001b[49m\u001b[43m=\u001b[49m\u001b[43mkwargs\u001b[49m\u001b[43m[\u001b[49m\u001b[33;43m\"\u001b[39;49m\u001b[33;43m_check_return_type\u001b[39;49m\u001b[33;43m\"\u001b[39;49m\u001b[43m]\u001b[49m\u001b[43m,\u001b[49m\n\u001b[32m    148\u001b[39m \u001b[43m    \u001b[49m\u001b[43m_return_http_data_only\u001b[49m\u001b[43m=\u001b[49m\u001b[43mkwargs\u001b[49m\u001b[43m[\u001b[49m\u001b[33;43m\"\u001b[39;49m\u001b[33;43m_return_http_data_only\u001b[39;49m\u001b[33;43m\"\u001b[39;49m\u001b[43m]\u001b[49m\u001b[43m,\u001b[49m\n\u001b[32m    149\u001b[39m \u001b[43m    \u001b[49m\u001b[43m_preload_content\u001b[49m\u001b[43m=\u001b[49m\u001b[43mkwargs\u001b[49m\u001b[43m[\u001b[49m\u001b[33;43m\"\u001b[39;49m\u001b[33;43m_preload_content\u001b[39;49m\u001b[33;43m\"\u001b[39;49m\u001b[43m]\u001b[49m\u001b[43m,\u001b[49m\n\u001b[32m    150\u001b[39m \u001b[43m    \u001b[49m\u001b[43m_request_timeout\u001b[49m\u001b[43m=\u001b[49m\u001b[43mkwargs\u001b[49m\u001b[43m[\u001b[49m\u001b[33;43m\"\u001b[39;49m\u001b[33;43m_request_timeout\u001b[39;49m\u001b[33;43m\"\u001b[39;49m\u001b[43m]\u001b[49m\u001b[43m,\u001b[49m\n\u001b[32m    151\u001b[39m \u001b[43m    \u001b[49m\u001b[43m_host\u001b[49m\u001b[43m=\u001b[49m\u001b[43m_host\u001b[49m\u001b[43m,\u001b[49m\n\u001b[32m    152\u001b[39m \u001b[43m    \u001b[49m\u001b[43mcollection_formats\u001b[49m\u001b[43m=\u001b[49m\u001b[43mparams\u001b[49m\u001b[43m[\u001b[49m\u001b[33;43m\"\u001b[39;49m\u001b[33;43mcollection_format\u001b[39;49m\u001b[33;43m\"\u001b[39;49m\u001b[43m]\u001b[49m\u001b[43m,\u001b[49m\n\u001b[32m    153\u001b[39m \u001b[43m\u001b[49m\u001b[43m)\u001b[49m\n",
      "\u001b[36mFile \u001b[39m\u001b[32mc:\\Users\\NizamiSevindi\\Documents\\Projects\\PYTHON\\End-To-End-Medical-Gen-Ai\\.medibot\\Lib\\site-packages\\pinecone\\openapi_support\\api_client.py:300\u001b[39m, in \u001b[36mApiClient.call_api\u001b[39m\u001b[34m(self, resource_path, method, path_params, query_params, header_params, body, post_params, files, response_type, auth_settings, async_req, async_threadpool_executor, _return_http_data_only, collection_formats, _preload_content, _request_timeout, _host, _check_type)\u001b[39m\n\u001b[32m    279\u001b[39m     \u001b[38;5;28;01mreturn\u001b[39;00m \u001b[38;5;28mself\u001b[39m.threadpool_executor.submit(\n\u001b[32m    280\u001b[39m         \u001b[38;5;28mself\u001b[39m.__call_api,\n\u001b[32m    281\u001b[39m         resource_path,\n\u001b[32m   (...)\u001b[39m\u001b[32m    296\u001b[39m         _check_type,\n\u001b[32m    297\u001b[39m     )\n\u001b[32m    299\u001b[39m \u001b[38;5;28;01mif\u001b[39;00m \u001b[38;5;129;01mnot\u001b[39;00m async_req:\n\u001b[32m--> \u001b[39m\u001b[32m300\u001b[39m     \u001b[38;5;28;01mreturn\u001b[39;00m \u001b[38;5;28;43mself\u001b[39;49m\u001b[43m.\u001b[49m\u001b[43m__call_api\u001b[49m\u001b[43m(\u001b[49m\n\u001b[32m    301\u001b[39m \u001b[43m        \u001b[49m\u001b[43mresource_path\u001b[49m\u001b[43m,\u001b[49m\n\u001b[32m    302\u001b[39m \u001b[43m        \u001b[49m\u001b[43mmethod\u001b[49m\u001b[43m,\u001b[49m\n\u001b[32m    303\u001b[39m \u001b[43m        \u001b[49m\u001b[43mpath_params\u001b[49m\u001b[43m,\u001b[49m\n\u001b[32m    304\u001b[39m \u001b[43m        \u001b[49m\u001b[43mquery_params\u001b[49m\u001b[43m,\u001b[49m\n\u001b[32m    305\u001b[39m \u001b[43m        \u001b[49m\u001b[43mheader_params\u001b[49m\u001b[43m,\u001b[49m\n\u001b[32m    306\u001b[39m \u001b[43m        \u001b[49m\u001b[43mbody\u001b[49m\u001b[43m,\u001b[49m\n\u001b[32m    307\u001b[39m \u001b[43m        \u001b[49m\u001b[43mpost_params\u001b[49m\u001b[43m,\u001b[49m\n\u001b[32m    308\u001b[39m \u001b[43m        \u001b[49m\u001b[43mfiles\u001b[49m\u001b[43m,\u001b[49m\n\u001b[32m    309\u001b[39m \u001b[43m        \u001b[49m\u001b[43mresponse_type\u001b[49m\u001b[43m,\u001b[49m\n\u001b[32m    310\u001b[39m \u001b[43m        \u001b[49m\u001b[43mauth_settings\u001b[49m\u001b[43m,\u001b[49m\n\u001b[32m    311\u001b[39m \u001b[43m        \u001b[49m\u001b[43m_return_http_data_only\u001b[49m\u001b[43m,\u001b[49m\n\u001b[32m    312\u001b[39m \u001b[43m        \u001b[49m\u001b[43mcollection_formats\u001b[49m\u001b[43m,\u001b[49m\n\u001b[32m    313\u001b[39m \u001b[43m        \u001b[49m\u001b[43m_preload_content\u001b[49m\u001b[43m,\u001b[49m\n\u001b[32m    314\u001b[39m \u001b[43m        \u001b[49m\u001b[43m_request_timeout\u001b[49m\u001b[43m,\u001b[49m\n\u001b[32m    315\u001b[39m \u001b[43m        \u001b[49m\u001b[43m_host\u001b[49m\u001b[43m,\u001b[49m\n\u001b[32m    316\u001b[39m \u001b[43m        \u001b[49m\u001b[43m_check_type\u001b[49m\u001b[43m,\u001b[49m\n\u001b[32m    317\u001b[39m \u001b[43m    \u001b[49m\u001b[43m)\u001b[49m\n\u001b[32m    319\u001b[39m \u001b[38;5;28;01mreturn\u001b[39;00m \u001b[38;5;28mself\u001b[39m.pool.apply_async(\n\u001b[32m    320\u001b[39m     \u001b[38;5;28mself\u001b[39m.__call_api,\n\u001b[32m    321\u001b[39m     (\n\u001b[32m   (...)\u001b[39m\u001b[32m    338\u001b[39m     ),\n\u001b[32m    339\u001b[39m )\n",
      "\u001b[36mFile \u001b[39m\u001b[32mc:\\Users\\NizamiSevindi\\Documents\\Projects\\PYTHON\\End-To-End-Medical-Gen-Ai\\.medibot\\Lib\\site-packages\\pinecone\\openapi_support\\api_client.py:178\u001b[39m, in \u001b[36mApiClient.__call_api\u001b[39m\u001b[34m(self, resource_path, method, path_params, query_params, header_params, body, post_params, files, response_type, auth_settings, _return_http_data_only, collection_formats, _preload_content, _request_timeout, _host, _check_type)\u001b[39m\n\u001b[32m    176\u001b[39m \u001b[38;5;28;01mexcept\u001b[39;00m PineconeApiException \u001b[38;5;28;01mas\u001b[39;00m e:\n\u001b[32m    177\u001b[39m     e.body = e.body.decode(\u001b[33m\"\u001b[39m\u001b[33mutf-8\u001b[39m\u001b[33m\"\u001b[39m)\n\u001b[32m--> \u001b[39m\u001b[32m178\u001b[39m     \u001b[38;5;28;01mraise\u001b[39;00m e\n\u001b[32m    180\u001b[39m \u001b[38;5;28mself\u001b[39m.last_response = response_data\n\u001b[32m    182\u001b[39m return_data = response_data\n",
      "\u001b[36mFile \u001b[39m\u001b[32mc:\\Users\\NizamiSevindi\\Documents\\Projects\\PYTHON\\End-To-End-Medical-Gen-Ai\\.medibot\\Lib\\site-packages\\pinecone\\openapi_support\\api_client.py:166\u001b[39m, in \u001b[36mApiClient.__call_api\u001b[39m\u001b[34m(self, resource_path, method, path_params, query_params, header_params, body, post_params, files, response_type, auth_settings, _return_http_data_only, collection_formats, _preload_content, _request_timeout, _host, _check_type)\u001b[39m\n\u001b[32m    157\u001b[39m url = build_request_url(\n\u001b[32m    158\u001b[39m     config=config,\n\u001b[32m    159\u001b[39m     processed_path_params=path_params_tuple,\n\u001b[32m    160\u001b[39m     resource_path=resource_path,\n\u001b[32m    161\u001b[39m     _host=_host,\n\u001b[32m    162\u001b[39m )\n\u001b[32m    164\u001b[39m \u001b[38;5;28;01mtry\u001b[39;00m:\n\u001b[32m    165\u001b[39m     \u001b[38;5;66;03m# perform request and return response\u001b[39;00m\n\u001b[32m--> \u001b[39m\u001b[32m166\u001b[39m     response_data = \u001b[38;5;28;43mself\u001b[39;49m\u001b[43m.\u001b[49m\u001b[43mrequest\u001b[49m\u001b[43m(\u001b[49m\n\u001b[32m    167\u001b[39m \u001b[43m        \u001b[49m\u001b[43mmethod\u001b[49m\u001b[43m,\u001b[49m\n\u001b[32m    168\u001b[39m \u001b[43m        \u001b[49m\u001b[43murl\u001b[49m\u001b[43m,\u001b[49m\n\u001b[32m    169\u001b[39m \u001b[43m        \u001b[49m\u001b[43mquery_params\u001b[49m\u001b[43m=\u001b[49m\u001b[43mprocessed_query_params\u001b[49m\u001b[43m,\u001b[49m\n\u001b[32m    170\u001b[39m \u001b[43m        \u001b[49m\u001b[43mheaders\u001b[49m\u001b[43m=\u001b[49m\u001b[43mheaders_tuple\u001b[49m\u001b[43m,\u001b[49m\n\u001b[32m    171\u001b[39m \u001b[43m        \u001b[49m\u001b[43mpost_params\u001b[49m\u001b[43m=\u001b[49m\u001b[43mprocessed_post_params\u001b[49m\u001b[43m,\u001b[49m\n\u001b[32m    172\u001b[39m \u001b[43m        \u001b[49m\u001b[43mbody\u001b[49m\u001b[43m=\u001b[49m\u001b[43mbody\u001b[49m\u001b[43m,\u001b[49m\n\u001b[32m    173\u001b[39m \u001b[43m        \u001b[49m\u001b[43m_preload_content\u001b[49m\u001b[43m=\u001b[49m\u001b[43m_preload_content\u001b[49m\u001b[43m,\u001b[49m\n\u001b[32m    174\u001b[39m \u001b[43m        \u001b[49m\u001b[43m_request_timeout\u001b[49m\u001b[43m=\u001b[49m\u001b[43m_request_timeout\u001b[49m\u001b[43m,\u001b[49m\n\u001b[32m    175\u001b[39m \u001b[43m    \u001b[49m\u001b[43m)\u001b[49m\n\u001b[32m    176\u001b[39m \u001b[38;5;28;01mexcept\u001b[39;00m PineconeApiException \u001b[38;5;28;01mas\u001b[39;00m e:\n\u001b[32m    177\u001b[39m     e.body = e.body.decode(\u001b[33m\"\u001b[39m\u001b[33mutf-8\u001b[39m\u001b[33m\"\u001b[39m)\n",
      "\u001b[36mFile \u001b[39m\u001b[32mc:\\Users\\NizamiSevindi\\Documents\\Projects\\PYTHON\\End-To-End-Medical-Gen-Ai\\.medibot\\Lib\\site-packages\\pinecone\\openapi_support\\api_client.py:380\u001b[39m, in \u001b[36mApiClient.request\u001b[39m\u001b[34m(self, method, url, query_params, headers, post_params, body, _preload_content, _request_timeout)\u001b[39m\n\u001b[32m    370\u001b[39m     \u001b[38;5;28;01mreturn\u001b[39;00m \u001b[38;5;28mself\u001b[39m.rest_client.OPTIONS(\n\u001b[32m    371\u001b[39m         url,\n\u001b[32m    372\u001b[39m         query_params=query_params,\n\u001b[32m   (...)\u001b[39m\u001b[32m    377\u001b[39m         body=body,\n\u001b[32m    378\u001b[39m     )\n\u001b[32m    379\u001b[39m \u001b[38;5;28;01melif\u001b[39;00m method == \u001b[33m\"\u001b[39m\u001b[33mPOST\u001b[39m\u001b[33m\"\u001b[39m:\n\u001b[32m--> \u001b[39m\u001b[32m380\u001b[39m     \u001b[38;5;28;01mreturn\u001b[39;00m \u001b[38;5;28;43mself\u001b[39;49m\u001b[43m.\u001b[49m\u001b[43mrest_client\u001b[49m\u001b[43m.\u001b[49m\u001b[43mPOST\u001b[49m\u001b[43m(\u001b[49m\n\u001b[32m    381\u001b[39m \u001b[43m        \u001b[49m\u001b[43murl\u001b[49m\u001b[43m,\u001b[49m\n\u001b[32m    382\u001b[39m \u001b[43m        \u001b[49m\u001b[43mquery_params\u001b[49m\u001b[43m=\u001b[49m\u001b[43mquery_params\u001b[49m\u001b[43m,\u001b[49m\n\u001b[32m    383\u001b[39m \u001b[43m        \u001b[49m\u001b[43mheaders\u001b[49m\u001b[43m=\u001b[49m\u001b[43mheaders\u001b[49m\u001b[43m,\u001b[49m\n\u001b[32m    384\u001b[39m \u001b[43m        \u001b[49m\u001b[43mpost_params\u001b[49m\u001b[43m=\u001b[49m\u001b[43mpost_params\u001b[49m\u001b[43m,\u001b[49m\n\u001b[32m    385\u001b[39m \u001b[43m        \u001b[49m\u001b[43m_preload_content\u001b[49m\u001b[43m=\u001b[49m\u001b[43m_preload_content\u001b[49m\u001b[43m,\u001b[49m\n\u001b[32m    386\u001b[39m \u001b[43m        \u001b[49m\u001b[43m_request_timeout\u001b[49m\u001b[43m=\u001b[49m\u001b[43m_request_timeout\u001b[49m\u001b[43m,\u001b[49m\n\u001b[32m    387\u001b[39m \u001b[43m        \u001b[49m\u001b[43mbody\u001b[49m\u001b[43m=\u001b[49m\u001b[43mbody\u001b[49m\u001b[43m,\u001b[49m\n\u001b[32m    388\u001b[39m \u001b[43m    \u001b[49m\u001b[43m)\u001b[49m\n\u001b[32m    389\u001b[39m \u001b[38;5;28;01melif\u001b[39;00m method == \u001b[33m\"\u001b[39m\u001b[33mPUT\u001b[39m\u001b[33m\"\u001b[39m:\n\u001b[32m    390\u001b[39m     \u001b[38;5;28;01mreturn\u001b[39;00m \u001b[38;5;28mself\u001b[39m.rest_client.PUT(\n\u001b[32m    391\u001b[39m         url,\n\u001b[32m    392\u001b[39m         query_params=query_params,\n\u001b[32m   (...)\u001b[39m\u001b[32m    397\u001b[39m         body=body,\n\u001b[32m    398\u001b[39m     )\n",
      "\u001b[36mFile \u001b[39m\u001b[32mc:\\Users\\NizamiSevindi\\Documents\\Projects\\PYTHON\\End-To-End-Medical-Gen-Ai\\.medibot\\Lib\\site-packages\\pinecone\\openapi_support\\rest_utils.py:146\u001b[39m, in \u001b[36mRestClientInterface.POST\u001b[39m\u001b[34m(self, url, headers, query_params, post_params, body, _preload_content, _request_timeout)\u001b[39m\n\u001b[32m    136\u001b[39m \u001b[38;5;28;01mdef\u001b[39;00m\u001b[38;5;250m \u001b[39m\u001b[34mPOST\u001b[39m(\n\u001b[32m    137\u001b[39m     \u001b[38;5;28mself\u001b[39m,\n\u001b[32m    138\u001b[39m     url,\n\u001b[32m   (...)\u001b[39m\u001b[32m    144\u001b[39m     _request_timeout=\u001b[38;5;28;01mNone\u001b[39;00m,\n\u001b[32m    145\u001b[39m ):\n\u001b[32m--> \u001b[39m\u001b[32m146\u001b[39m     \u001b[38;5;28;01mreturn\u001b[39;00m \u001b[38;5;28;43mself\u001b[39;49m\u001b[43m.\u001b[49m\u001b[43mrequest\u001b[49m\u001b[43m(\u001b[49m\n\u001b[32m    147\u001b[39m \u001b[43m        \u001b[49m\u001b[33;43m\"\u001b[39;49m\u001b[33;43mPOST\u001b[39;49m\u001b[33;43m\"\u001b[39;49m\u001b[43m,\u001b[49m\n\u001b[32m    148\u001b[39m \u001b[43m        \u001b[49m\u001b[43murl\u001b[49m\u001b[43m,\u001b[49m\n\u001b[32m    149\u001b[39m \u001b[43m        \u001b[49m\u001b[43mheaders\u001b[49m\u001b[43m=\u001b[49m\u001b[43mheaders\u001b[49m\u001b[43m,\u001b[49m\n\u001b[32m    150\u001b[39m \u001b[43m        \u001b[49m\u001b[43mquery_params\u001b[49m\u001b[43m=\u001b[49m\u001b[43mquery_params\u001b[49m\u001b[43m,\u001b[49m\n\u001b[32m    151\u001b[39m \u001b[43m        \u001b[49m\u001b[43mpost_params\u001b[49m\u001b[43m=\u001b[49m\u001b[43mpost_params\u001b[49m\u001b[43m,\u001b[49m\n\u001b[32m    152\u001b[39m \u001b[43m        \u001b[49m\u001b[43m_preload_content\u001b[49m\u001b[43m=\u001b[49m\u001b[43m_preload_content\u001b[49m\u001b[43m,\u001b[49m\n\u001b[32m    153\u001b[39m \u001b[43m        \u001b[49m\u001b[43m_request_timeout\u001b[49m\u001b[43m=\u001b[49m\u001b[43m_request_timeout\u001b[49m\u001b[43m,\u001b[49m\n\u001b[32m    154\u001b[39m \u001b[43m        \u001b[49m\u001b[43mbody\u001b[49m\u001b[43m=\u001b[49m\u001b[43mbody\u001b[49m\u001b[43m,\u001b[49m\n\u001b[32m    155\u001b[39m \u001b[43m    \u001b[49m\u001b[43m)\u001b[49m\n",
      "\u001b[36mFile \u001b[39m\u001b[32mc:\\Users\\NizamiSevindi\\Documents\\Projects\\PYTHON\\End-To-End-Medical-Gen-Ai\\.medibot\\Lib\\site-packages\\pinecone\\openapi_support\\rest_urllib3.py:260\u001b[39m, in \u001b[36mUrllib3RestClient.request\u001b[39m\u001b[34m(self, method, url, query_params, headers, body, post_params, _preload_content, _request_timeout)\u001b[39m\n\u001b[32m    257\u001b[39m     \u001b[38;5;66;03m# log response body\u001b[39;00m\n\u001b[32m    258\u001b[39m     logger.debug(\u001b[33m\"\u001b[39m\u001b[33mresponse body: \u001b[39m\u001b[38;5;132;01m%s\u001b[39;00m\u001b[33m\"\u001b[39m, r.data)\n\u001b[32m--> \u001b[39m\u001b[32m260\u001b[39m \u001b[38;5;28;01mreturn\u001b[39;00m \u001b[43mraise_exceptions_or_return\u001b[49m\u001b[43m(\u001b[49m\u001b[43mr\u001b[49m\u001b[43m)\u001b[49m\n",
      "\u001b[36mFile \u001b[39m\u001b[32mc:\\Users\\NizamiSevindi\\Documents\\Projects\\PYTHON\\End-To-End-Medical-Gen-Ai\\.medibot\\Lib\\site-packages\\pinecone\\openapi_support\\rest_utils.py:49\u001b[39m, in \u001b[36mraise_exceptions_or_return\u001b[39m\u001b[34m(r)\u001b[39m\n\u001b[32m     46\u001b[39m     \u001b[38;5;28;01mif\u001b[39;00m \u001b[32m500\u001b[39m <= r.status <= \u001b[32m599\u001b[39m:\n\u001b[32m     47\u001b[39m         \u001b[38;5;28;01mraise\u001b[39;00m ServiceException(http_resp=r)\n\u001b[32m---> \u001b[39m\u001b[32m49\u001b[39m     \u001b[38;5;28;01mraise\u001b[39;00m PineconeApiException(http_resp=r)\n\u001b[32m     51\u001b[39m \u001b[38;5;28;01mreturn\u001b[39;00m r\n",
      "\u001b[31mPineconeApiException\u001b[39m: (409)\nReason: Conflict\nHTTP response headers: HTTPHeaderDict({'content-type': 'text/plain; charset=utf-8', 'access-control-allow-origin': '*', 'vary': 'origin,access-control-request-method,access-control-request-headers', 'access-control-expose-headers': '*', 'x-pinecone-api-version': '2025-01', 'X-Cloud-Trace-Context': 'e18d634482fafc5b740943cd54fcf07f', 'Date': 'Thu, 13 Mar 2025 15:02:39 GMT', 'Server': 'Google Frontend', 'Content-Length': '85', 'Via': '1.1 google', 'Alt-Svc': 'h3=\":443\"; ma=2592000,h3-29=\":443\"; ma=2592000'})\nHTTP response body: {\"error\":{\"code\":\"ALREADY_EXISTS\",\"message\":\"Resource  already exists\"},\"status\":409}\n"
     ]
    }
   ],
   "source": [
    "from pinecone import Pinecone, ServerlessSpec\n",
    "import os\n",
    "pc = Pinecone(api_key=os.environ.get('PINECONE_API_KEY'))\n",
    "\n",
    "index_name = \"medicalbot\"\n",
    "\n",
    "pc.create_index(\n",
    "    name=index_name,\n",
    "    dimension=384, \n",
    "    metric=\"cosine\", \n",
    "    spec=ServerlessSpec(\n",
    "        cloud=\"aws\", \n",
    "        region=\"us-east-1\"\n",
    "    ) \n",
    ") "
   ]
  },
  {
   "cell_type": "code",
   "execution_count": 41,
   "metadata": {},
   "outputs": [],
   "source": [
    "import os\n",
    "os.environ[\"PINECONE_API_KEY\"] = PINECONE_API_KEY\n",
    "os.environ[\"OPENAI_API_KEY\"] = OPENAI_API_KEY"
   ]
  },
  {
   "cell_type": "code",
   "execution_count": 42,
   "metadata": {},
   "outputs": [],
   "source": [
    "# Embed each chunk and upsert the embeddings into your Pinecone index.\n",
    "from langchain_pinecone import PineconeVectorStore\n",
    "\n",
    "docsearch = PineconeVectorStore.from_documents(\n",
    "    documents=text_chunks,\n",
    "    index_name=index_name,\n",
    "    embedding=embeddings, \n",
    ")"
   ]
  },
  {
   "cell_type": "code",
   "execution_count": 43,
   "metadata": {},
   "outputs": [],
   "source": [
    "# Load Existing index \n",
    "\n",
    "from langchain_pinecone import PineconeVectorStore\n",
    "# Embed each chunk and upsert the embeddings into your Pinecone index.\n",
    "docsearch = PineconeVectorStore.from_existing_index(\n",
    "    index_name=index_name,\n",
    "    embedding=embeddings\n",
    ")"
   ]
  },
  {
   "cell_type": "code",
   "execution_count": 44,
   "metadata": {},
   "outputs": [
    {
     "data": {
      "text/plain": [
       "<langchain_pinecone.vectorstores.PineconeVectorStore at 0x20372f884d0>"
      ]
     },
     "execution_count": 44,
     "metadata": {},
     "output_type": "execute_result"
    }
   ],
   "source": [
    "docsearch"
   ]
  },
  {
   "cell_type": "code",
   "execution_count": 45,
   "metadata": {},
   "outputs": [],
   "source": [
    "retriever = docsearch.as_retriever(search_type=\"similarity\", search_kwargs={\"k\":3})"
   ]
  },
  {
   "cell_type": "code",
   "execution_count": 46,
   "metadata": {},
   "outputs": [],
   "source": [
    "retrieved_docs = retriever.invoke(\"What does it about?\")"
   ]
  },
  {
   "cell_type": "code",
   "execution_count": 47,
   "metadata": {},
   "outputs": [
    {
     "data": {
      "text/plain": [
       "[Document(id='5884316c-b38c-4c99-b81a-614a968c8dc1', metadata={'creationdate': '2024-09-10T21:50:42+00:00', 'creator': 'TeX', 'moddate': '2024-09-10T21:50:42+00:00', 'page': 6.0, 'page_label': '7', 'producer': 'pdfTeX-1.40.26', 'ptex.fullbanner': 'This is pdfTeX, Version 3.141592653-2.6-1.40.26 (TeX Live 2024) kpathsea version 6.4.0', 'source': 'Data\\\\A_Comprehensive_Review_of_Low_Rank_Adaptation_in_Large_Language_Models_for_Efficient_Parameter_Tuning-1.pdf', 'total_pages': 11.0, 'trapped': '/False'}, page_content='BitFit is another baseline in which only the bias parameters are updated,\\nwhile all other parameters remain frozen. This method has gained attention,\\nincluding in recent studies [ ?].\\nPrefix-embedding tuning (PreEmbed)involves adding special tokens to\\nthe input sequence, and training their embeddings. These tokens do not belong\\nto the model’s original vocabulary. Their placement—either prepended (prefix)\\nor appended (infix)—can significantly affect performance, as highlighted in [ ?].'),\n",
       " Document(id='b85b385d-66a2-4be8-a9e6-ad6d699689e4', metadata={'creationdate': '2024-09-10T21:50:42+00:00', 'creator': 'TeX', 'moddate': '2024-09-10T21:50:42+00:00', 'page': 0.0, 'page_label': '1', 'producer': 'pdfTeX-1.40.26', 'ptex.fullbanner': 'This is pdfTeX, Version 3.141592653-2.6-1.40.26 (TeX Live 2024) kpathsea version 6.4.0', 'source': 'Data\\\\A_Comprehensive_Review_of_Low_Rank_Adaptation_in_Large_Language_Models_for_Efficient_Parameter_Tuning-1.pdf', 'total_pages': 11.0, 'trapped': '/False'}, page_content='applications. All relevant code and model checkpoints are available at\\nhttps://github.com/microsoft/LoRA.\\n1 Introduction\\nMany natural language processing (NLP) applications rely on adapting large,\\npre-trained language models for various downstream tasks. Typically, this is\\ndone through fine-tuning, where all the parameters of the pre-trained model are\\nupdated. However, a significant drawback of fine-tuning is that the adapted'),\n",
       " Document(id='7a9f38e0-d1c7-404a-9c77-a17a3d3b7778', metadata={'creationdate': '2024-09-10T21:50:42+00:00', 'creator': 'TeX', 'moddate': '2024-09-10T21:50:42+00:00', 'page': 6.0, 'page_label': '7', 'producer': 'pdfTeX-1.40.26', 'ptex.fullbanner': 'This is pdfTeX, Version 3.141592653-2.6-1.40.26 (TeX Live 2024) kpathsea version 6.4.0', 'source': 'Data\\\\A_Comprehensive_Review_of_Low_Rank_Adaptation_in_Large_Language_Models_for_Efficient_Parameter_Tuning-1.pdf', 'total_pages': 11.0, 'trapped': '/False'}, page_content='We assess LoRA’s performance in downstream tasks across several models in-\\ncluding RoBERTa, DeBERTa, and GPT-2, before scaling up to GPT-3 175B.\\nOur experiments cover various tasks, ranging from natural language understand-\\ning (NLU) to natural language generation (NLG). For RoBERTa and DeBERTa,\\nwe evaluate on the GLUE benchmark. All experiments were performed using\\nNVIDIA Tesla V100 GPUs.\\n5.1 Baselines\\nFor comparison with a wide range of baselines, we replicate experimental setups')]"
      ]
     },
     "execution_count": 47,
     "metadata": {},
     "output_type": "execute_result"
    }
   ],
   "source": [
    "retrieved_docs"
   ]
  },
  {
   "cell_type": "code",
   "execution_count": 48,
   "metadata": {},
   "outputs": [],
   "source": [
    "from langchain_openai import OpenAI\n",
    "llm = OpenAI(temperature=0.4, max_tokens=500)"
   ]
  },
  {
   "cell_type": "code",
   "execution_count": 54,
   "metadata": {},
   "outputs": [],
   "source": [
    "from langchain.chains import create_retrieval_chain\n",
    "from langchain.chains.combine_documents import create_stuff_documents_chain\n",
    "from langchain_core.prompts import ChatPromptTemplate\n",
    "\n",
    "\n",
    "system_prompt = (\n",
    "    \"You are an assistant for question-answering tasks. \"\n",
    "    \"Use the following pieces of retrieved context to answer \"\n",
    "    \"the question. If you don't know the answer, say that you \"\n",
    "    \"don't know. Use three sentences maximum and keep the \"\n",
    "    \"answer concise.\"\n",
    "    \"\\n\\n\"\n",
    "    \"{context}\"\n",
    ")\n",
    "\n",
    "\n",
    "prompt = ChatPromptTemplate.from_messages(\n",
    "    [\n",
    "        (\"system\", system_prompt),\n",
    "        (\"human\", \"{input}\"),\n",
    "    ]\n",
    ")"
   ]
  },
  {
   "cell_type": "code",
   "execution_count": 50,
   "metadata": {},
   "outputs": [],
   "source": [
    "question_answer_chain = create_stuff_documents_chain(llm, prompt)\n",
    "rag_chain = create_retrieval_chain(retriever, question_answer_chain)"
   ]
  },
  {
   "cell_type": "code",
   "execution_count": 51,
   "metadata": {},
   "outputs": [
    {
     "name": "stdout",
     "output_type": "stream",
     "text": [
      "\n",
      "\n",
      "LoRA is a technique for reducing the storage and hardware requirements for training natural language processing models. It works by freezing most of the model's parameters and only training small rank decomposition matrices. This not only reduces the number of trainable parameters and GPU memory usage, but also maintains or even improves performance on models like RoBERTa, DeBERTa, GPT-2, and GPT-3. It also introduces no extra latency during inference, making it more efficient for practical use.\n"
     ]
    }
   ],
   "source": [
    "response = rag_chain.invoke({\"input\": \"what is Lora?\"})\n",
    "print(response[\"answer\"])"
   ]
  },
  {
   "cell_type": "code",
   "execution_count": 56,
   "metadata": {},
   "outputs": [
    {
     "name": "stdout",
     "output_type": "stream",
     "text": [
      "\n",
      "\n",
      "I don't know.\n"
     ]
    }
   ],
   "source": [
    "response = rag_chain.invoke({\"input\": \"What is Formula?\"})\n",
    "print(response[\"answer\"])"
   ]
  }
 ],
 "metadata": {
  "kernelspec": {
   "display_name": ".medibot",
   "language": "python",
   "name": "python3"
  },
  "language_info": {
   "codemirror_mode": {
    "name": "ipython",
    "version": 3
   },
   "file_extension": ".py",
   "mimetype": "text/x-python",
   "name": "python",
   "nbconvert_exporter": "python",
   "pygments_lexer": "ipython3",
   "version": "3.11.9"
  }
 },
 "nbformat": 4,
 "nbformat_minor": 2
}
